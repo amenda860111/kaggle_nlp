{
 "cells": [
  {
   "cell_type": "markdown",
   "metadata": {},
   "source": [
    "# Cross validation\n",
    "\n",
    "Modified based on resource https://github.com/amueller/ml-workshop-2-of-4/blob/master/notebooks/02%20-%20Cross-validation%20and%20Grid%20Search.ipynb"
   ]
  },
  {
   "cell_type": "code",
   "execution_count": 1,
   "metadata": {},
   "outputs": [],
   "source": [
    "import matplotlib.pyplot as plt\n",
    "import numpy as np\n",
    "import sklearn\n",
    "sklearn.set_config(print_changed_only=True)"
   ]
  },
  {
   "cell_type": "code",
   "execution_count": 2,
   "metadata": {},
   "outputs": [],
   "source": [
    "from sklearn.datasets import load_digits\n",
    "\n",
    "digits = load_digits()"
   ]
  },
  {
   "cell_type": "code",
   "execution_count": 3,
   "metadata": {},
   "outputs": [
    {
     "name": "stdout",
     "output_type": "stream",
     "text": [
      ".. _digits_dataset:\n",
      "\n",
      "Optical recognition of handwritten digits dataset\n",
      "--------------------------------------------------\n",
      "\n",
      "**Data Set Characteristics:**\n",
      "\n",
      "    :Number of Instances: 5620\n",
      "    :Number of Attributes: 64\n",
      "    :Attribute Information: 8x8 image of integer pixels in the range 0..16.\n",
      "    :Missing Attribute Values: None\n",
      "    :Creator: E. Alpaydin (alpaydin '@' boun.edu.tr)\n",
      "    :Date: July; 1998\n",
      "\n",
      "This is a copy of the test set of the UCI ML hand-written digits datasets\n",
      "https://archive.ics.uci.edu/ml/datasets/Optical+Recognition+of+Handwritten+Digits\n",
      "\n",
      "The data set contains images of hand-written digits: 10 classes where\n",
      "each class refers to a digit.\n",
      "\n",
      "Preprocessing programs made available by NIST were used to extract\n",
      "normalized bitmaps of handwritten digits from a preprinted form. From a\n",
      "total of 43 people, 30 contributed to the training set and different 13\n",
      "to the test set. 32x32 bitmaps are divided into nonoverlapping blocks of\n",
      "4x4 and the number of on pixels are counted in each block. This generates\n",
      "an input matrix of 8x8 where each element is an integer in the range\n",
      "0..16. This reduces dimensionality and gives invariance to small\n",
      "distortions.\n",
      "\n",
      "For info on NIST preprocessing routines, see M. D. Garris, J. L. Blue, G.\n",
      "T. Candela, D. L. Dimmick, J. Geist, P. J. Grother, S. A. Janet, and C.\n",
      "L. Wilson, NIST Form-Based Handprint Recognition System, NISTIR 5469,\n",
      "1994.\n",
      "\n",
      ".. topic:: References\n",
      "\n",
      "  - C. Kaynak (1995) Methods of Combining Multiple Classifiers and Their\n",
      "    Applications to Handwritten Digit Recognition, MSc Thesis, Institute of\n",
      "    Graduate Studies in Science and Engineering, Bogazici University.\n",
      "  - E. Alpaydin, C. Kaynak (1998) Cascading Classifiers, Kybernetika.\n",
      "  - Ken Tang and Ponnuthurai N. Suganthan and Xi Yao and A. Kai Qin.\n",
      "    Linear dimensionalityreduction using relevance weighted LDA. School of\n",
      "    Electrical and Electronic Engineering Nanyang Technological University.\n",
      "    2005.\n",
      "  - Claudio Gentile. A New Approximate Maximal Margin Classification\n",
      "    Algorithm. NIPS. 2000.\n"
     ]
    }
   ],
   "source": [
    "print(digits.DESCR)"
   ]
  },
  {
   "cell_type": "code",
   "execution_count": 4,
   "metadata": {},
   "outputs": [
    {
     "name": "stdout",
     "output_type": "stream",
     "text": [
      "(1797, 64)\n",
      "[[ 0.  0.  5. ...  0.  0.  0.]\n",
      " [ 0.  0.  0. ... 10.  0.  0.]\n",
      " [ 0.  0.  0. ... 16.  9.  0.]\n",
      " ...\n",
      " [ 0.  0.  1. ...  6.  0.  0.]\n",
      " [ 0.  0.  2. ... 12.  0.  0.]\n",
      " [ 0.  0. 10. ... 12.  1.  0.]]\n",
      "(1797,)\n",
      "[0 1 2 ... 8 9 8]\n"
     ]
    }
   ],
   "source": [
    "print(digits.data.shape)\n",
    "print(digits.data)\n",
    "print(digits.target.shape)\n",
    "print(digits.target)"
   ]
  },
  {
   "cell_type": "code",
   "execution_count": 5,
   "metadata": {},
   "outputs": [],
   "source": [
    "from sklearn.model_selection import train_test_split\n",
    "\n",
    "X_train, X_test, y_train, y_test = train_test_split(digits.data, digits.target)\n",
    "# test_size, train_size, if null defaul is 25% test"
   ]
  },
  {
   "cell_type": "code",
   "execution_count": 6,
   "metadata": {},
   "outputs": [
    {
     "name": "stdout",
     "output_type": "stream",
     "text": [
      "(1347, 64)\n",
      "(1347,)\n",
      "(450, 64)\n",
      "(450,)\n",
      "0.25041736227045075\n"
     ]
    }
   ],
   "source": [
    "print(X_train.shape)\n",
    "print(y_train.shape)\n",
    "print(X_test.shape)\n",
    "print(y_test.shape)\n",
    "print(450/(450+1347))"
   ]
  },
  {
   "cell_type": "markdown",
   "metadata": {},
   "source": [
    "# Example of CV using K nearest neighbor classifier\n",
    "- https://en.wikipedia.org/wiki/K-nearest_neighbors_algorithm\n",
    "- sklearn documentation: https://scikit-learn.org/stable/modules/generated/sklearn.neighbors.KNeighborsClassifier.html\n",
    "- default n_neighbors=5"
   ]
  },
  {
   "cell_type": "code",
   "execution_count": 7,
   "metadata": {},
   "outputs": [],
   "source": [
    "from sklearn.model_selection import cross_val_score\n",
    "from sklearn.neighbors import KNeighborsClassifier"
   ]
  },
  {
   "cell_type": "code",
   "execution_count": 8,
   "metadata": {},
   "outputs": [
    {
     "data": {
      "text/plain": [
       "0.9977777777777778"
      ]
     },
     "execution_count": 8,
     "metadata": {},
     "output_type": "execute_result"
    }
   ],
   "source": [
    "model = KNeighborsClassifier()\n",
    "model.fit(X_train, y_train)     # fit - train model\n",
    "model.predict(X_test)           # predict - predict on test \n",
    "model.score(X_test, y_test)     # get accuracy score for this model prediction"
   ]
  },
  {
   "cell_type": "code",
   "execution_count": 9,
   "metadata": {},
   "outputs": [
    {
     "name": "stdout",
     "output_type": "stream",
     "text": [
      "[8 0 9 3 4 5 8 0 8 1 8 3 8 6 8 5 7 9 1 0 3 2 3 8 0 2 8 3 0 7 1 4 0 0 5 1 9\n",
      " 3 7 6 7 1 1 5 2 6 2 9 0 9 8 3 3 3 7 9 8 6 7 1 9 8 3 9 8 0 1 1 1 3 5 8 0 0\n",
      " 7 5 0 2 4 6 5 2 2 2 7 0 7 0 4 1 5 9 3 4 0 8 6 8 8 9 1 1 4 9 8 5 9 5 5 4 3\n",
      " 3 2 6 7 2 8 4 0 1 6 7 1 1 2 5 4 2 6 3 2 5 8 3 6 0 2 6 7 5 9 2 7 1 8 6 6 3\n",
      " 4 3 2 8 4 8 9 4 0 3 1 1 4 0 1 7 6 1 7 9 3 9 7 3 5 6 6 1 8 9 5 9 4 2 3 4 5\n",
      " 5 4 1 0 1 4 7 0 4 0 9 7 4 7 3 7 0 4 6 3 7 8 1 9 9 4 5 4 7 2 4 1 7 1 1 2 6\n",
      " 3 6 1 5 3 4 3 4 8 4 2 9 0 8 3 0 3 1 6 7 3 6 4 8 0 6 5 7 2 4 9 6 7 8 6 1 3\n",
      " 6 0 9 9 2 1 2 9 9 9 1 3 1 4 2 1 6 7 6 4 0 1 2 8 3 7 2 3 0 2 3 8 2 0 5 6 2\n",
      " 3 7 8 5 4 9 8 9 7 7 6 4 6 9 1 8 2 3 6 3 1 5 8 3 3 2 9 5 1 1 4 2 8 4 5 4 7\n",
      " 5 6 3 6 9 4 0 3 2 2 7 0 8 7 5 3 3 0 0 1 4 0 0 8 1 5 7 6 1 9 9 7 0 2 5 0 6\n",
      " 1 7 0 5 4 7 1 1 9 6 9 6 5 2 0 5 8 5 5 6 1 2 8 9 6 6 0 8 8 2 5 8 6 0 8 0 3\n",
      " 5 2 1 1 3 4 2 3 6 5 1 5 0 6 2 9 7 1 1 6 8 1 5 2 6 6 1 9 0 6 4 9 2 0 9 0 9\n",
      " 5 5 7 4 1 4]\n"
     ]
    }
   ],
   "source": [
    "y_pred = model.predict(X_test)\n",
    "print(y_pred)"
   ]
  },
  {
   "cell_type": "code",
   "execution_count": 10,
   "metadata": {},
   "outputs": [
    {
     "name": "stdout",
     "output_type": "stream",
     "text": [
      "[8 0 9 3 4 5 8 0 8 1 8 3 8 6 8 5 7 9 1 0 3 2 3 8 0 2 8 3 0 7 1 4 0 0 5 1 9\n",
      " 3 7 6 7 1 1 5 2 6 2 9 0 9 8 3 3 3 7 9 8 6 7 1 9 8 3 9 8 0 1 1 1 3 5 8 0 0\n",
      " 7 5 0 2 4 6 5 2 2 2 7 0 7 0 4 1 5 9 3 4 0 8 6 8 8 9 1 1 4 9 8 5 9 5 5 4 3\n",
      " 3 2 6 7 2 8 4 0 1 6 7 1 1 2 5 4 2 6 3 2 5 8 3 6 0 2 6 7 5 9 2 7 1 8 6 6 3\n",
      " 4 3 2 8 4 8 9 4 0 3 1 1 4 0 1 7 6 1 7 9 3 9 7 3 5 6 6 8 8 9 5 9 4 2 3 4 5\n",
      " 5 4 1 0 1 4 7 0 4 0 9 7 4 7 3 7 0 4 6 3 7 8 1 9 9 4 5 4 7 2 4 1 7 1 1 2 6\n",
      " 3 6 1 5 3 4 3 4 8 4 2 9 0 8 3 0 3 1 6 7 3 6 4 8 0 6 5 7 2 4 9 6 7 8 6 1 3\n",
      " 6 0 9 9 2 1 2 9 9 9 1 3 1 4 2 1 6 7 6 4 0 1 2 8 3 7 2 3 0 2 3 8 2 0 5 6 2\n",
      " 3 7 8 5 4 9 8 9 7 7 6 4 6 9 1 8 2 3 6 3 1 5 8 3 3 2 9 5 1 1 4 2 8 4 5 4 7\n",
      " 5 6 3 6 9 4 0 3 2 2 7 0 8 7 5 3 3 0 0 1 4 0 0 8 1 5 7 6 1 9 9 7 0 2 5 0 6\n",
      " 1 7 0 5 4 7 1 1 9 6 9 6 5 2 0 5 8 5 5 6 1 2 8 9 6 6 0 8 8 2 5 8 6 0 8 0 3\n",
      " 5 2 1 1 3 4 2 3 6 5 1 5 0 6 2 9 7 1 1 6 8 1 5 2 6 6 1 9 0 6 4 9 2 0 9 0 9\n",
      " 5 5 7 4 1 4]\n"
     ]
    }
   ],
   "source": [
    "print(y_test)"
   ]
  },
  {
   "cell_type": "code",
   "execution_count": 11,
   "metadata": {},
   "outputs": [
    {
     "data": {
      "text/plain": [
       "array([0.96296296, 0.99259259, 0.99256506, 0.98513011, 0.98513011])"
      ]
     },
     "execution_count": 11,
     "metadata": {},
     "output_type": "execute_result"
    }
   ],
   "source": [
    "cross_val_score(KNeighborsClassifier(), X_train, y_train, cv=5) #n_neighbors=5"
   ]
  },
  {
   "cell_type": "markdown",
   "metadata": {},
   "source": [
    "### Try other parameters n_neighbors = 3, or 10"
   ]
  },
  {
   "cell_type": "code",
   "execution_count": 12,
   "metadata": {},
   "outputs": [
    {
     "name": "stdout",
     "output_type": "stream",
     "text": [
      "0.9844141539308826\n",
      "0.9836761668731928\n",
      "0.9769929781082197\n"
     ]
    }
   ],
   "source": [
    "k3  = cross_val_score(KNeighborsClassifier(n_neighbors=3), X_train, y_train, cv=5) #n_neighbors=3\n",
    "k5  = cross_val_score(KNeighborsClassifier(n_neighbors=5), X_train, y_train, cv=5) #n_neighbors=5\n",
    "k10 = cross_val_score(KNeighborsClassifier(n_neighbors=10), X_train, y_train, cv=5) #n_neighbors=5\n",
    "\n",
    "print(k3.mean())\n",
    "print(k5.mean())\n",
    "print(k10.mean())"
   ]
  },
  {
   "cell_type": "markdown",
   "metadata": {},
   "source": [
    "# Some more advanced CV functions\n",
    "- for classifier, cv default to StratifiedKFold (automatically make different classes distributed evenly)\n",
    "- otherwise, cv default to KFold (with No shuffle)"
   ]
  },
  {
   "cell_type": "code",
   "execution_count": 13,
   "metadata": {},
   "outputs": [],
   "source": [
    "from sklearn.model_selection import KFold, StratifiedKFold, RepeatedStratifiedKFold"
   ]
  },
  {
   "cell_type": "code",
   "execution_count": 14,
   "metadata": {},
   "outputs": [
    {
     "data": {
      "text/plain": [
       "array([0.96296296, 0.99259259, 0.99256506, 0.98513011, 0.98513011])"
      ]
     },
     "execution_count": 14,
     "metadata": {},
     "output_type": "execute_result"
    }
   ],
   "source": [
    "cross_val_score(KNeighborsClassifier(),\n",
    "                X_train, y_train, cv=StratifiedKFold(n_splits=5))"
   ]
  },
  {
   "cell_type": "code",
   "execution_count": 15,
   "metadata": {},
   "outputs": [
    {
     "data": {
      "text/plain": [
       "array([0.96666667, 0.98148148, 0.99256506, 0.98513011, 0.98513011])"
      ]
     },
     "execution_count": 15,
     "metadata": {},
     "output_type": "execute_result"
    }
   ],
   "source": [
    "cross_val_score(KNeighborsClassifier(),\n",
    "                X_train, y_train, cv=KFold(n_splits=5))"
   ]
  },
  {
   "cell_type": "code",
   "execution_count": 16,
   "metadata": {},
   "outputs": [
    {
     "data": {
      "text/plain": [
       "50"
      ]
     },
     "execution_count": 16,
     "metadata": {},
     "output_type": "execute_result"
    }
   ],
   "source": [
    "len(cross_val_score(KNeighborsClassifier(), X_train, y_train, cv=RepeatedStratifiedKFold(n_splits=5, n_repeats=10, random_state=42)))"
   ]
  },
  {
   "cell_type": "markdown",
   "metadata": {},
   "source": [
    "Grid Search\n",
    "================="
   ]
  },
  {
   "cell_type": "markdown",
   "metadata": {},
   "source": [
    "Grid-Search using Support vector machine classifier as example"
   ]
  },
  {
   "cell_type": "code",
   "execution_count": 17,
   "metadata": {},
   "outputs": [],
   "source": [
    "from sklearn.model_selection import GridSearchCV\n",
    "from sklearn.svm import SVC"
   ]
  },
  {
   "cell_type": "markdown",
   "metadata": {},
   "source": [
    "Define parameter grid:"
   ]
  },
  {
   "cell_type": "code",
   "execution_count": 31,
   "metadata": {},
   "outputs": [
    {
     "name": "stdout",
     "output_type": "stream",
     "text": [
      "{'C': array([  0.001,   0.01 ,   0.1  ,   1.   ,  10.   , 100.   ]), 'gamma': array([0.00001, 0.0001 , 0.001  , 0.01   , 0.1    ])}\n"
     ]
    }
   ],
   "source": [
    "import numpy as np\n",
    "\n",
    "param_grid = {'C': 10. ** np.arange(-3, 3),\n",
    "              'gamma' : 10. ** np.arange(-5, 0)}\n",
    "\n",
    "#np.set_printoptions(suppress=True)\n",
    "print(param_grid)"
   ]
  },
  {
   "cell_type": "code",
   "execution_count": 19,
   "metadata": {},
   "outputs": [],
   "source": [
    "grid_search = GridSearchCV(SVC(), param_grid, verbose=3)\n",
    "# CV default to be 5 Fold"
   ]
  },
  {
   "cell_type": "markdown",
   "metadata": {},
   "source": [
    "A GridSearchCV object behaves just like a normal classifier."
   ]
  },
  {
   "cell_type": "code",
   "execution_count": 20,
   "metadata": {},
   "outputs": [
    {
     "name": "stdout",
     "output_type": "stream",
     "text": [
      "Fitting 5 folds for each of 30 candidates, totalling 150 fits\n",
      "[CV] C=0.001, gamma=1e-05 ............................................\n"
     ]
    },
    {
     "name": "stderr",
     "output_type": "stream",
     "text": [
      "[Parallel(n_jobs=1)]: Using backend SequentialBackend with 1 concurrent workers.\n"
     ]
    },
    {
     "name": "stdout",
     "output_type": "stream",
     "text": [
      "[CV] ................ C=0.001, gamma=1e-05, score=0.204, total=   0.4s\n",
      "[CV] C=0.001, gamma=1e-05 ............................................\n"
     ]
    },
    {
     "name": "stderr",
     "output_type": "stream",
     "text": [
      "[Parallel(n_jobs=1)]: Done   1 out of   1 | elapsed:    0.4s remaining:    0.0s\n"
     ]
    },
    {
     "name": "stdout",
     "output_type": "stream",
     "text": [
      "[CV] ................ C=0.001, gamma=1e-05, score=0.104, total=   0.3s\n",
      "[CV] C=0.001, gamma=1e-05 ............................................\n"
     ]
    },
    {
     "name": "stderr",
     "output_type": "stream",
     "text": [
      "[Parallel(n_jobs=1)]: Done   2 out of   2 | elapsed:    0.7s remaining:    0.0s\n"
     ]
    },
    {
     "name": "stdout",
     "output_type": "stream",
     "text": [
      "[CV] ................ C=0.001, gamma=1e-05, score=0.104, total=   0.5s\n",
      "[CV] C=0.001, gamma=1e-05 ............................................\n",
      "[CV] ................ C=0.001, gamma=1e-05, score=0.201, total=   0.6s\n",
      "[CV] C=0.001, gamma=1e-05 ............................................\n",
      "[CV] ................ C=0.001, gamma=1e-05, score=0.104, total=   0.3s\n",
      "[CV] C=0.001, gamma=0.0001 ...........................................\n",
      "[CV] ............... C=0.001, gamma=0.0001, score=0.204, total=   0.3s\n",
      "[CV] C=0.001, gamma=0.0001 ...........................................\n",
      "[CV] ............... C=0.001, gamma=0.0001, score=0.104, total=   0.3s\n",
      "[CV] C=0.001, gamma=0.0001 ...........................................\n",
      "[CV] ............... C=0.001, gamma=0.0001, score=0.104, total=   0.2s\n",
      "[CV] C=0.001, gamma=0.0001 ...........................................\n",
      "[CV] ............... C=0.001, gamma=0.0001, score=0.201, total=   0.3s\n",
      "[CV] C=0.001, gamma=0.0001 ...........................................\n",
      "[CV] ............... C=0.001, gamma=0.0001, score=0.104, total=   0.3s\n",
      "[CV] C=0.001, gamma=0.001 ............................................\n",
      "[CV] ................ C=0.001, gamma=0.001, score=0.204, total=   0.3s\n",
      "[CV] C=0.001, gamma=0.001 ............................................\n",
      "[CV] ................ C=0.001, gamma=0.001, score=0.104, total=   0.2s\n",
      "[CV] C=0.001, gamma=0.001 ............................................\n",
      "[CV] ................ C=0.001, gamma=0.001, score=0.104, total=   0.3s\n",
      "[CV] C=0.001, gamma=0.001 ............................................\n",
      "[CV] ................ C=0.001, gamma=0.001, score=0.201, total=   0.2s\n",
      "[CV] C=0.001, gamma=0.001 ............................................\n",
      "[CV] ................ C=0.001, gamma=0.001, score=0.104, total=   0.2s\n",
      "[CV] C=0.001, gamma=0.01 .............................................\n",
      "[CV] ................. C=0.001, gamma=0.01, score=0.163, total=   0.2s\n",
      "[CV] C=0.001, gamma=0.01 .............................................\n",
      "[CV] ................. C=0.001, gamma=0.01, score=0.104, total=   0.2s\n",
      "[CV] C=0.001, gamma=0.01 .............................................\n",
      "[CV] ................. C=0.001, gamma=0.01, score=0.104, total=   0.3s\n",
      "[CV] C=0.001, gamma=0.01 .............................................\n",
      "[CV] ................. C=0.001, gamma=0.01, score=0.164, total=   0.2s\n",
      "[CV] C=0.001, gamma=0.01 .............................................\n",
      "[CV] ................. C=0.001, gamma=0.01, score=0.104, total=   0.2s\n",
      "[CV] C=0.001, gamma=0.1 ..............................................\n",
      "[CV] .................. C=0.001, gamma=0.1, score=0.104, total=   0.3s\n",
      "[CV] C=0.001, gamma=0.1 ..............................................\n",
      "[CV] .................. C=0.001, gamma=0.1, score=0.104, total=   0.2s\n",
      "[CV] C=0.001, gamma=0.1 ..............................................\n",
      "[CV] .................. C=0.001, gamma=0.1, score=0.104, total=   0.2s\n",
      "[CV] C=0.001, gamma=0.1 ..............................................\n",
      "[CV] .................. C=0.001, gamma=0.1, score=0.104, total=   0.2s\n",
      "[CV] C=0.001, gamma=0.1 ..............................................\n",
      "[CV] .................. C=0.001, gamma=0.1, score=0.104, total=   0.2s\n",
      "[CV] C=0.01, gamma=1e-05 .............................................\n",
      "[CV] ................. C=0.01, gamma=1e-05, score=0.204, total=   0.2s\n",
      "[CV] C=0.01, gamma=1e-05 .............................................\n",
      "[CV] ................. C=0.01, gamma=1e-05, score=0.104, total=   0.2s\n",
      "[CV] C=0.01, gamma=1e-05 .............................................\n",
      "[CV] ................. C=0.01, gamma=1e-05, score=0.104, total=   0.2s\n",
      "[CV] C=0.01, gamma=1e-05 .............................................\n",
      "[CV] ................. C=0.01, gamma=1e-05, score=0.201, total=   0.2s\n",
      "[CV] C=0.01, gamma=1e-05 .............................................\n",
      "[CV] ................. C=0.01, gamma=1e-05, score=0.104, total=   0.2s\n",
      "[CV] C=0.01, gamma=0.0001 ............................................\n",
      "[CV] ................ C=0.01, gamma=0.0001, score=0.204, total=   0.2s\n",
      "[CV] C=0.01, gamma=0.0001 ............................................\n",
      "[CV] ................ C=0.01, gamma=0.0001, score=0.104, total=   0.2s\n",
      "[CV] C=0.01, gamma=0.0001 ............................................\n",
      "[CV] ................ C=0.01, gamma=0.0001, score=0.104, total=   0.2s\n",
      "[CV] C=0.01, gamma=0.0001 ............................................\n",
      "[CV] ................ C=0.01, gamma=0.0001, score=0.201, total=   0.2s\n",
      "[CV] C=0.01, gamma=0.0001 ............................................\n",
      "[CV] ................ C=0.01, gamma=0.0001, score=0.104, total=   0.2s\n",
      "[CV] C=0.01, gamma=0.001 .............................................\n",
      "[CV] ................. C=0.01, gamma=0.001, score=0.204, total=   0.2s\n",
      "[CV] C=0.01, gamma=0.001 .............................................\n",
      "[CV] ................. C=0.01, gamma=0.001, score=0.104, total=   0.2s\n",
      "[CV] C=0.01, gamma=0.001 .............................................\n",
      "[CV] ................. C=0.01, gamma=0.001, score=0.104, total=   0.2s\n",
      "[CV] C=0.01, gamma=0.001 .............................................\n",
      "[CV] ................. C=0.01, gamma=0.001, score=0.201, total=   0.2s\n",
      "[CV] C=0.01, gamma=0.001 .............................................\n",
      "[CV] ................. C=0.01, gamma=0.001, score=0.104, total=   0.2s\n",
      "[CV] C=0.01, gamma=0.01 ..............................................\n",
      "[CV] .................. C=0.01, gamma=0.01, score=0.163, total=   0.3s\n",
      "[CV] C=0.01, gamma=0.01 ..............................................\n",
      "[CV] .................. C=0.01, gamma=0.01, score=0.104, total=   0.2s\n",
      "[CV] C=0.01, gamma=0.01 ..............................................\n",
      "[CV] .................. C=0.01, gamma=0.01, score=0.104, total=   0.2s\n",
      "[CV] C=0.01, gamma=0.01 ..............................................\n",
      "[CV] .................. C=0.01, gamma=0.01, score=0.164, total=   0.2s\n",
      "[CV] C=0.01, gamma=0.01 ..............................................\n",
      "[CV] .................. C=0.01, gamma=0.01, score=0.104, total=   0.2s\n",
      "[CV] C=0.01, gamma=0.1 ...............................................\n",
      "[CV] ................... C=0.01, gamma=0.1, score=0.104, total=   0.2s\n",
      "[CV] C=0.01, gamma=0.1 ...............................................\n",
      "[CV] ................... C=0.01, gamma=0.1, score=0.104, total=   0.2s\n",
      "[CV] C=0.01, gamma=0.1 ...............................................\n",
      "[CV] ................... C=0.01, gamma=0.1, score=0.104, total=   0.2s\n",
      "[CV] C=0.01, gamma=0.1 ...............................................\n",
      "[CV] ................... C=0.01, gamma=0.1, score=0.104, total=   0.2s\n",
      "[CV] C=0.01, gamma=0.1 ...............................................\n",
      "[CV] ................... C=0.01, gamma=0.1, score=0.104, total=   0.2s\n",
      "[CV] C=0.1, gamma=1e-05 ..............................................\n",
      "[CV] .................. C=0.1, gamma=1e-05, score=0.204, total=   0.2s\n",
      "[CV] C=0.1, gamma=1e-05 ..............................................\n",
      "[CV] .................. C=0.1, gamma=1e-05, score=0.104, total=   0.3s\n",
      "[CV] C=0.1, gamma=1e-05 ..............................................\n",
      "[CV] .................. C=0.1, gamma=1e-05, score=0.104, total=   0.2s\n",
      "[CV] C=0.1, gamma=1e-05 ..............................................\n",
      "[CV] .................. C=0.1, gamma=1e-05, score=0.201, total=   0.2s\n",
      "[CV] C=0.1, gamma=1e-05 ..............................................\n",
      "[CV] .................. C=0.1, gamma=1e-05, score=0.104, total=   0.2s\n",
      "[CV] C=0.1, gamma=0.0001 .............................................\n",
      "[CV] ................. C=0.1, gamma=0.0001, score=0.893, total=   0.2s\n",
      "[CV] C=0.1, gamma=0.0001 .............................................\n",
      "[CV] ................. C=0.1, gamma=0.0001, score=0.893, total=   0.2s\n",
      "[CV] C=0.1, gamma=0.0001 .............................................\n",
      "[CV] ................. C=0.1, gamma=0.0001, score=0.944, total=   0.2s\n",
      "[CV] C=0.1, gamma=0.0001 .............................................\n",
      "[CV] ................. C=0.1, gamma=0.0001, score=0.885, total=   0.2s\n",
      "[CV] C=0.1, gamma=0.0001 .............................................\n",
      "[CV] ................. C=0.1, gamma=0.0001, score=0.870, total=   0.2s\n",
      "[CV] C=0.1, gamma=0.001 ..............................................\n",
      "[CV] .................. C=0.1, gamma=0.001, score=0.937, total=   0.1s\n",
      "[CV] C=0.1, gamma=0.001 ..............................................\n",
      "[CV] .................. C=0.1, gamma=0.001, score=0.970, total=   0.2s\n",
      "[CV] C=0.1, gamma=0.001 ..............................................\n",
      "[CV] .................. C=0.1, gamma=0.001, score=0.974, total=   0.2s\n",
      "[CV] C=0.1, gamma=0.001 ..............................................\n",
      "[CV] .................. C=0.1, gamma=0.001, score=0.948, total=   0.2s\n",
      "[CV] C=0.1, gamma=0.001 ..............................................\n",
      "[CV] .................. C=0.1, gamma=0.001, score=0.955, total=   0.1s\n",
      "[CV] C=0.1, gamma=0.01 ...............................................\n",
      "[CV] ................... C=0.1, gamma=0.01, score=0.163, total=   0.3s\n",
      "[CV] C=0.1, gamma=0.01 ...............................................\n",
      "[CV] ................... C=0.1, gamma=0.01, score=0.104, total=   0.2s\n",
      "[CV] C=0.1, gamma=0.01 ...............................................\n",
      "[CV] ................... C=0.1, gamma=0.01, score=0.104, total=   0.3s\n",
      "[CV] C=0.1, gamma=0.01 ...............................................\n",
      "[CV] ................... C=0.1, gamma=0.01, score=0.164, total=   0.3s\n",
      "[CV] C=0.1, gamma=0.01 ...............................................\n",
      "[CV] ................... C=0.1, gamma=0.01, score=0.104, total=   0.3s\n",
      "[CV] C=0.1, gamma=0.1 ................................................\n",
      "[CV] .................... C=0.1, gamma=0.1, score=0.104, total=   0.3s\n",
      "[CV] C=0.1, gamma=0.1 ................................................\n",
      "[CV] .................... C=0.1, gamma=0.1, score=0.104, total=   0.3s\n",
      "[CV] C=0.1, gamma=0.1 ................................................\n",
      "[CV] .................... C=0.1, gamma=0.1, score=0.104, total=   0.3s\n",
      "[CV] C=0.1, gamma=0.1 ................................................\n",
      "[CV] .................... C=0.1, gamma=0.1, score=0.104, total=   0.3s\n",
      "[CV] C=0.1, gamma=0.1 ................................................\n",
      "[CV] .................... C=0.1, gamma=0.1, score=0.104, total=   0.3s\n",
      "[CV] C=1.0, gamma=1e-05 ..............................................\n",
      "[CV] .................. C=1.0, gamma=1e-05, score=0.889, total=   0.2s\n",
      "[CV] C=1.0, gamma=1e-05 ..............................................\n",
      "[CV] .................. C=1.0, gamma=1e-05, score=0.889, total=   0.2s\n",
      "[CV] C=1.0, gamma=1e-05 ..............................................\n",
      "[CV] .................. C=1.0, gamma=1e-05, score=0.944, total=   0.2s\n",
      "[CV] C=1.0, gamma=1e-05 ..............................................\n",
      "[CV] .................. C=1.0, gamma=1e-05, score=0.874, total=   0.2s\n",
      "[CV] C=1.0, gamma=1e-05 ..............................................\n",
      "[CV] .................. C=1.0, gamma=1e-05, score=0.888, total=   0.2s\n",
      "[CV] C=1.0, gamma=0.0001 .............................................\n",
      "[CV] ................. C=1.0, gamma=0.0001, score=0.952, total=   0.1s\n",
      "[CV] C=1.0, gamma=0.0001 .............................................\n",
      "[CV] ................. C=1.0, gamma=0.0001, score=0.970, total=   0.1s\n",
      "[CV] C=1.0, gamma=0.0001 .............................................\n",
      "[CV] ................. C=1.0, gamma=0.0001, score=0.989, total=   0.1s\n",
      "[CV] C=1.0, gamma=0.0001 .............................................\n",
      "[CV] ................. C=1.0, gamma=0.0001, score=0.952, total=   0.1s\n",
      "[CV] C=1.0, gamma=0.0001 .............................................\n",
      "[CV] ................. C=1.0, gamma=0.0001, score=0.967, total=   0.1s\n",
      "[CV] C=1.0, gamma=0.001 ..............................................\n",
      "[CV] .................. C=1.0, gamma=0.001, score=0.978, total=   0.1s\n",
      "[CV] C=1.0, gamma=0.001 ..............................................\n",
      "[CV] .................. C=1.0, gamma=0.001, score=0.993, total=   0.1s\n",
      "[CV] C=1.0, gamma=0.001 ..............................................\n",
      "[CV] .................. C=1.0, gamma=0.001, score=0.996, total=   0.1s\n",
      "[CV] C=1.0, gamma=0.001 ..............................................\n",
      "[CV] .................. C=1.0, gamma=0.001, score=0.993, total=   0.1s\n",
      "[CV] C=1.0, gamma=0.001 ..............................................\n",
      "[CV] .................. C=1.0, gamma=0.001, score=0.985, total=   0.2s\n",
      "[CV] C=1.0, gamma=0.01 ...............................................\n",
      "[CV] ................... C=1.0, gamma=0.01, score=0.737, total=   0.4s\n",
      "[CV] C=1.0, gamma=0.01 ...............................................\n",
      "[CV] ................... C=1.0, gamma=0.01, score=0.822, total=   0.2s\n",
      "[CV] C=1.0, gamma=0.01 ...............................................\n",
      "[CV] ................... C=1.0, gamma=0.01, score=0.755, total=   0.3s\n",
      "[CV] C=1.0, gamma=0.01 ...............................................\n",
      "[CV] ................... C=1.0, gamma=0.01, score=0.773, total=   0.4s\n",
      "[CV] C=1.0, gamma=0.01 ...............................................\n",
      "[CV] ................... C=1.0, gamma=0.01, score=0.807, total=   0.3s\n",
      "[CV] C=1.0, gamma=0.1 ................................................\n",
      "[CV] .................... C=1.0, gamma=0.1, score=0.104, total=   0.3s\n",
      "[CV] C=1.0, gamma=0.1 ................................................\n",
      "[CV] .................... C=1.0, gamma=0.1, score=0.104, total=   0.3s\n",
      "[CV] C=1.0, gamma=0.1 ................................................\n",
      "[CV] .................... C=1.0, gamma=0.1, score=0.104, total=   0.3s\n",
      "[CV] C=1.0, gamma=0.1 ................................................\n",
      "[CV] .................... C=1.0, gamma=0.1, score=0.108, total=   0.3s\n",
      "[CV] C=1.0, gamma=0.1 ................................................\n",
      "[CV] .................... C=1.0, gamma=0.1, score=0.104, total=   0.3s\n",
      "[CV] C=10.0, gamma=1e-05 .............................................\n",
      "[CV] ................. C=10.0, gamma=1e-05, score=0.956, total=   0.1s\n",
      "[CV] C=10.0, gamma=1e-05 .............................................\n",
      "[CV] ................. C=10.0, gamma=1e-05, score=0.970, total=   0.1s\n",
      "[CV] C=10.0, gamma=1e-05 .............................................\n",
      "[CV] ................. C=10.0, gamma=1e-05, score=0.989, total=   0.1s\n",
      "[CV] C=10.0, gamma=1e-05 .............................................\n",
      "[CV] ................. C=10.0, gamma=1e-05, score=0.955, total=   0.1s\n",
      "[CV] C=10.0, gamma=1e-05 .............................................\n",
      "[CV] ................. C=10.0, gamma=1e-05, score=0.967, total=   0.1s\n",
      "[CV] C=10.0, gamma=0.0001 ............................................\n",
      "[CV] ................ C=10.0, gamma=0.0001, score=0.978, total=   0.0s\n",
      "[CV] C=10.0, gamma=0.0001 ............................................\n",
      "[CV] ................ C=10.0, gamma=0.0001, score=0.985, total=   0.1s\n",
      "[CV] C=10.0, gamma=0.0001 ............................................\n",
      "[CV] ................ C=10.0, gamma=0.0001, score=1.000, total=   0.1s\n",
      "[CV] C=10.0, gamma=0.0001 ............................................\n",
      "[CV] ................ C=10.0, gamma=0.0001, score=0.981, total=   0.0s\n",
      "[CV] C=10.0, gamma=0.0001 ............................................\n",
      "[CV] ................ C=10.0, gamma=0.0001, score=0.993, total=   0.0s\n",
      "[CV] C=10.0, gamma=0.001 .............................................\n",
      "[CV] ................. C=10.0, gamma=0.001, score=0.978, total=   0.1s\n",
      "[CV] C=10.0, gamma=0.001 .............................................\n",
      "[CV] ................. C=10.0, gamma=0.001, score=0.993, total=   0.1s\n",
      "[CV] C=10.0, gamma=0.001 .............................................\n",
      "[CV] ................. C=10.0, gamma=0.001, score=0.996, total=   0.1s\n",
      "[CV] C=10.0, gamma=0.001 .............................................\n",
      "[CV] ................. C=10.0, gamma=0.001, score=0.996, total=   0.1s\n",
      "[CV] C=10.0, gamma=0.001 .............................................\n",
      "[CV] ................. C=10.0, gamma=0.001, score=0.981, total=   0.1s\n",
      "[CV] C=10.0, gamma=0.01 ..............................................\n",
      "[CV] .................. C=10.0, gamma=0.01, score=0.752, total=   0.3s\n",
      "[CV] C=10.0, gamma=0.01 ..............................................\n",
      "[CV] .................. C=10.0, gamma=0.01, score=0.833, total=   0.3s\n",
      "[CV] C=10.0, gamma=0.01 ..............................................\n",
      "[CV] .................. C=10.0, gamma=0.01, score=0.784, total=   0.3s\n",
      "[CV] C=10.0, gamma=0.01 ..............................................\n",
      "[CV] .................. C=10.0, gamma=0.01, score=0.781, total=   0.3s\n",
      "[CV] C=10.0, gamma=0.01 ..............................................\n",
      "[CV] .................. C=10.0, gamma=0.01, score=0.807, total=   0.3s\n",
      "[CV] C=10.0, gamma=0.1 ...............................................\n",
      "[CV] ................... C=10.0, gamma=0.1, score=0.107, total=   0.3s\n",
      "[CV] C=10.0, gamma=0.1 ...............................................\n",
      "[CV] ................... C=10.0, gamma=0.1, score=0.104, total=   0.3s\n",
      "[CV] C=10.0, gamma=0.1 ...............................................\n",
      "[CV] ................... C=10.0, gamma=0.1, score=0.104, total=   0.3s\n",
      "[CV] C=10.0, gamma=0.1 ...............................................\n",
      "[CV] ................... C=10.0, gamma=0.1, score=0.108, total=   0.3s\n",
      "[CV] C=10.0, gamma=0.1 ...............................................\n",
      "[CV] ................... C=10.0, gamma=0.1, score=0.108, total=   0.3s\n",
      "[CV] C=100.0, gamma=1e-05 ............................................\n",
      "[CV] ................ C=100.0, gamma=1e-05, score=0.978, total=   0.1s\n",
      "[CV] C=100.0, gamma=1e-05 ............................................\n",
      "[CV] ................ C=100.0, gamma=1e-05, score=0.978, total=   0.0s\n",
      "[CV] C=100.0, gamma=1e-05 ............................................\n",
      "[CV] ................ C=100.0, gamma=1e-05, score=0.993, total=   0.0s\n",
      "[CV] C=100.0, gamma=1e-05 ............................................\n",
      "[CV] ................ C=100.0, gamma=1e-05, score=0.978, total=   0.0s\n",
      "[CV] C=100.0, gamma=1e-05 ............................................\n",
      "[CV] ................ C=100.0, gamma=1e-05, score=0.996, total=   0.0s\n",
      "[CV] C=100.0, gamma=0.0001 ...........................................\n",
      "[CV] ............... C=100.0, gamma=0.0001, score=0.974, total=   0.1s\n",
      "[CV] C=100.0, gamma=0.0001 ...........................................\n",
      "[CV] ............... C=100.0, gamma=0.0001, score=0.978, total=   0.0s\n",
      "[CV] C=100.0, gamma=0.0001 ...........................................\n",
      "[CV] ............... C=100.0, gamma=0.0001, score=0.996, total=   0.0s\n",
      "[CV] C=100.0, gamma=0.0001 ...........................................\n",
      "[CV] ............... C=100.0, gamma=0.0001, score=0.978, total=   0.0s\n",
      "[CV] C=100.0, gamma=0.0001 ...........................................\n",
      "[CV] ............... C=100.0, gamma=0.0001, score=0.993, total=   0.1s\n",
      "[CV] C=100.0, gamma=0.001 ............................................\n",
      "[CV] ................ C=100.0, gamma=0.001, score=0.978, total=   0.1s\n",
      "[CV] C=100.0, gamma=0.001 ............................................\n",
      "[CV] ................ C=100.0, gamma=0.001, score=0.993, total=   0.1s\n",
      "[CV] C=100.0, gamma=0.001 ............................................\n",
      "[CV] ................ C=100.0, gamma=0.001, score=0.996, total=   0.1s\n",
      "[CV] C=100.0, gamma=0.001 ............................................\n",
      "[CV] ................ C=100.0, gamma=0.001, score=0.996, total=   0.1s\n",
      "[CV] C=100.0, gamma=0.001 ............................................\n",
      "[CV] ................ C=100.0, gamma=0.001, score=0.981, total=   0.1s\n",
      "[CV] C=100.0, gamma=0.01 .............................................\n",
      "[CV] ................. C=100.0, gamma=0.01, score=0.752, total=   0.3s\n",
      "[CV] C=100.0, gamma=0.01 .............................................\n",
      "[CV] ................. C=100.0, gamma=0.01, score=0.833, total=   0.3s\n",
      "[CV] C=100.0, gamma=0.01 .............................................\n",
      "[CV] ................. C=100.0, gamma=0.01, score=0.784, total=   0.3s\n",
      "[CV] C=100.0, gamma=0.01 .............................................\n",
      "[CV] ................. C=100.0, gamma=0.01, score=0.781, total=   0.3s\n",
      "[CV] C=100.0, gamma=0.01 .............................................\n",
      "[CV] ................. C=100.0, gamma=0.01, score=0.807, total=   0.3s\n",
      "[CV] C=100.0, gamma=0.1 ..............................................\n",
      "[CV] .................. C=100.0, gamma=0.1, score=0.107, total=   0.3s\n",
      "[CV] C=100.0, gamma=0.1 ..............................................\n",
      "[CV] .................. C=100.0, gamma=0.1, score=0.104, total=   0.3s\n",
      "[CV] C=100.0, gamma=0.1 ..............................................\n",
      "[CV] .................. C=100.0, gamma=0.1, score=0.104, total=   0.3s\n",
      "[CV] C=100.0, gamma=0.1 ..............................................\n",
      "[CV] .................. C=100.0, gamma=0.1, score=0.108, total=   0.3s\n",
      "[CV] C=100.0, gamma=0.1 ..............................................\n",
      "[CV] .................. C=100.0, gamma=0.1, score=0.108, total=   0.3s\n"
     ]
    },
    {
     "name": "stderr",
     "output_type": "stream",
     "text": [
      "[Parallel(n_jobs=1)]: Done 150 out of 150 | elapsed:   31.2s finished\n"
     ]
    },
    {
     "data": {
      "text/plain": [
       "GridSearchCV(estimator=SVC(),\n",
       "             param_grid={'C': array([  0.001,   0.01 ,   0.1  ,   1.   ,  10.   , 100.   ]),\n",
       "                         'gamma': array([0.00001, 0.0001 , 0.001  , 0.01   , 0.1    ])},\n",
       "             verbose=3)"
      ]
     },
     "execution_count": 20,
     "metadata": {},
     "output_type": "execute_result"
    }
   ],
   "source": [
    "grid_search.fit(X_train, y_train)"
   ]
  },
  {
   "cell_type": "code",
   "execution_count": 21,
   "metadata": {},
   "outputs": [
    {
     "data": {
      "text/plain": [
       "array([8, 0, 9, 3, 4, 5, 8, 0, 8, 1, 8, 3, 8, 6, 8, 5, 7, 9, 1, 0, 3, 2,\n",
       "       3, 8, 0, 2, 8, 3, 0, 7, 1, 4, 0, 0, 5, 1, 9, 3, 7, 6, 7, 1, 1, 5,\n",
       "       2, 6, 2, 9, 0, 9, 8, 3, 3, 3, 7, 9, 8, 6, 7, 1, 9, 8, 3, 9, 8, 0,\n",
       "       1, 1, 1, 3, 5, 8, 0, 0, 7, 5, 0, 2, 4, 6, 5, 2, 2, 2, 7, 0, 7, 0,\n",
       "       4, 1, 5, 9, 3, 4, 0, 8, 6, 8, 8, 9, 1, 1, 4, 9, 8, 5, 9, 5, 5, 4,\n",
       "       3, 3, 2, 6, 7, 2, 8, 4, 0, 1, 6, 7, 1, 1, 2, 5, 4, 2, 6, 3, 2, 5,\n",
       "       8, 3, 6, 0, 2, 6, 7, 5, 9, 2, 7, 1, 8, 6, 6, 3, 4, 3, 2, 8, 4, 8,\n",
       "       9, 4, 0, 3, 1, 1, 4, 0, 1, 7, 6, 1, 7, 9, 3, 9, 7, 3, 5, 6, 6, 1,\n",
       "       8, 9, 5, 9, 4, 2, 3, 4, 5, 5, 4, 1, 0, 1, 4, 7, 0, 4, 0, 9, 7, 4,\n",
       "       7, 3, 7, 0, 4, 6, 3, 7, 8, 1, 9, 9, 4, 9, 4, 7, 2, 4, 1, 7, 1, 1,\n",
       "       2, 6, 3, 6, 1, 5, 3, 4, 3, 4, 8, 4, 2, 9, 0, 8, 3, 0, 3, 1, 6, 7,\n",
       "       3, 6, 4, 8, 0, 6, 5, 7, 2, 4, 9, 6, 7, 8, 6, 1, 3, 6, 0, 9, 9, 2,\n",
       "       1, 2, 9, 9, 9, 1, 3, 1, 4, 2, 1, 6, 7, 6, 4, 0, 1, 2, 8, 3, 7, 2,\n",
       "       3, 0, 2, 3, 8, 2, 0, 5, 6, 2, 3, 7, 8, 5, 4, 9, 8, 9, 7, 7, 6, 4,\n",
       "       6, 9, 1, 8, 2, 3, 6, 3, 1, 5, 8, 3, 3, 2, 9, 5, 1, 1, 4, 2, 8, 4,\n",
       "       5, 4, 7, 5, 6, 3, 6, 9, 4, 0, 5, 2, 2, 7, 0, 8, 7, 5, 3, 3, 0, 0,\n",
       "       1, 4, 0, 0, 8, 1, 5, 7, 6, 1, 9, 9, 7, 0, 2, 5, 0, 6, 1, 7, 0, 5,\n",
       "       4, 7, 1, 1, 9, 6, 9, 6, 5, 2, 0, 5, 8, 5, 5, 6, 1, 2, 8, 9, 6, 6,\n",
       "       0, 8, 8, 2, 5, 8, 6, 0, 8, 0, 3, 5, 2, 1, 1, 3, 4, 2, 3, 6, 5, 1,\n",
       "       5, 0, 6, 2, 9, 7, 1, 1, 6, 8, 1, 5, 2, 6, 6, 1, 9, 0, 6, 4, 9, 2,\n",
       "       0, 9, 0, 9, 5, 5, 7, 4, 1, 4])"
      ]
     },
     "execution_count": 21,
     "metadata": {},
     "output_type": "execute_result"
    }
   ],
   "source": [
    "grid_search.predict(X_test)"
   ]
  },
  {
   "cell_type": "code",
   "execution_count": 22,
   "metadata": {},
   "outputs": [
    {
     "data": {
      "text/plain": [
       "array([8, 0, 9, 3, 4, 5, 8, 0, 8, 1, 8, 3, 8, 6, 8, 5, 7, 9, 1, 0, 3, 2,\n",
       "       3, 8, 0, 2, 8, 3, 0, 7, 1, 4, 0, 0, 5, 1, 9, 3, 7, 6, 7, 1, 1, 5,\n",
       "       2, 6, 2, 9, 0, 9, 8, 3, 3, 3, 7, 9, 8, 6, 7, 1, 9, 8, 3, 9, 8, 0,\n",
       "       1, 1, 1, 3, 5, 8, 0, 0, 7, 5, 0, 2, 4, 6, 5, 2, 2, 2, 7, 0, 7, 0,\n",
       "       4, 1, 5, 9, 3, 4, 0, 8, 6, 8, 8, 9, 1, 1, 4, 9, 8, 5, 9, 5, 5, 4,\n",
       "       3, 3, 2, 6, 7, 2, 8, 4, 0, 1, 6, 7, 1, 1, 2, 5, 4, 2, 6, 3, 2, 5,\n",
       "       8, 3, 6, 0, 2, 6, 7, 5, 9, 2, 7, 1, 8, 6, 6, 3, 4, 3, 2, 8, 4, 8,\n",
       "       9, 4, 0, 3, 1, 1, 4, 0, 1, 7, 6, 1, 7, 9, 3, 9, 7, 3, 5, 6, 6, 8,\n",
       "       8, 9, 5, 9, 4, 2, 3, 4, 5, 5, 4, 1, 0, 1, 4, 7, 0, 4, 0, 9, 7, 4,\n",
       "       7, 3, 7, 0, 4, 6, 3, 7, 8, 1, 9, 9, 4, 5, 4, 7, 2, 4, 1, 7, 1, 1,\n",
       "       2, 6, 3, 6, 1, 5, 3, 4, 3, 4, 8, 4, 2, 9, 0, 8, 3, 0, 3, 1, 6, 7,\n",
       "       3, 6, 4, 8, 0, 6, 5, 7, 2, 4, 9, 6, 7, 8, 6, 1, 3, 6, 0, 9, 9, 2,\n",
       "       1, 2, 9, 9, 9, 1, 3, 1, 4, 2, 1, 6, 7, 6, 4, 0, 1, 2, 8, 3, 7, 2,\n",
       "       3, 0, 2, 3, 8, 2, 0, 5, 6, 2, 3, 7, 8, 5, 4, 9, 8, 9, 7, 7, 6, 4,\n",
       "       6, 9, 1, 8, 2, 3, 6, 3, 1, 5, 8, 3, 3, 2, 9, 5, 1, 1, 4, 2, 8, 4,\n",
       "       5, 4, 7, 5, 6, 3, 6, 9, 4, 0, 3, 2, 2, 7, 0, 8, 7, 5, 3, 3, 0, 0,\n",
       "       1, 4, 0, 0, 8, 1, 5, 7, 6, 1, 9, 9, 7, 0, 2, 5, 0, 6, 1, 7, 0, 5,\n",
       "       4, 7, 1, 1, 9, 6, 9, 6, 5, 2, 0, 5, 8, 5, 5, 6, 1, 2, 8, 9, 6, 6,\n",
       "       0, 8, 8, 2, 5, 8, 6, 0, 8, 0, 3, 5, 2, 1, 1, 3, 4, 2, 3, 6, 5, 1,\n",
       "       5, 0, 6, 2, 9, 7, 1, 1, 6, 8, 1, 5, 2, 6, 6, 1, 9, 0, 6, 4, 9, 2,\n",
       "       0, 9, 0, 9, 5, 5, 7, 4, 1, 4])"
      ]
     },
     "execution_count": 22,
     "metadata": {},
     "output_type": "execute_result"
    }
   ],
   "source": [
    "y_test"
   ]
  },
  {
   "cell_type": "code",
   "execution_count": 23,
   "metadata": {},
   "outputs": [
    {
     "data": {
      "text/plain": [
       "0.9933333333333333"
      ]
     },
     "execution_count": 23,
     "metadata": {},
     "output_type": "execute_result"
    }
   ],
   "source": [
    "grid_search.score(X_test, y_test)"
   ]
  },
  {
   "cell_type": "code",
   "execution_count": 24,
   "metadata": {},
   "outputs": [
    {
     "data": {
      "text/plain": [
       "SVC(gamma=0.001)"
      ]
     },
     "execution_count": 24,
     "metadata": {},
     "output_type": "execute_result"
    }
   ],
   "source": [
    "grid_search.best_estimator_"
   ]
  },
  {
   "cell_type": "code",
   "execution_count": 25,
   "metadata": {},
   "outputs": [
    {
     "data": {
      "text/plain": [
       "{'C': 1.0, 'gamma': 0.001}"
      ]
     },
     "execution_count": 25,
     "metadata": {},
     "output_type": "execute_result"
    }
   ],
   "source": [
    "grid_search.best_params_"
   ]
  },
  {
   "cell_type": "code",
   "execution_count": 26,
   "metadata": {},
   "outputs": [
    {
     "data": {
      "text/plain": [
       "0.9888696131075314"
      ]
     },
     "execution_count": 26,
     "metadata": {},
     "output_type": "execute_result"
    }
   ],
   "source": [
    "grid_search.best_score_ \n",
    "# Mean cross-validated score of the best_estimator"
   ]
  },
  {
   "cell_type": "code",
   "execution_count": 32,
   "metadata": {},
   "outputs": [
    {
     "name": "stdout",
     "output_type": "stream",
     "text": [
      "0.9888696131075314\n"
     ]
    }
   ],
   "source": [
    "cv_best = cross_val_score(SVC(C=1.0, gamma=0.001), X_train, y_train, cv=5)\n",
    "print(cv_best.mean())"
   ]
  },
  {
   "cell_type": "code",
   "execution_count": 33,
   "metadata": {},
   "outputs": [
    {
     "data": {
      "text/plain": [
       "array([[0.14326587, 0.14326587, 0.14326587, 0.12768278, 0.10393501],\n",
       "       [0.14326587, 0.14326587, 0.14326587, 0.12768278, 0.10393501],\n",
       "       [0.14326587, 0.89681399, 0.95694617, 0.12768278, 0.10393501],\n",
       "       [0.8968195 , 0.96585708, 0.98886961, 0.77876635, 0.10467851],\n",
       "       [0.96734132, 0.98738813, 0.98886961, 0.79138648, 0.10616274],\n",
       "       [0.98441966, 0.98367892, 0.98886961, 0.79138648, 0.10616274]])"
      ]
     },
     "execution_count": 33,
     "metadata": {},
     "output_type": "execute_result"
    }
   ],
   "source": [
    "scores = grid_search.cv_results_['mean_test_score']\n",
    "scores = np.array(scores).reshape(6, 5)\n",
    "\n",
    "scores"
   ]
  },
  {
   "cell_type": "code",
   "execution_count": 28,
   "metadata": {},
   "outputs": [
    {
     "data": {
      "image/png": "[encoded data removed]",
      "text/plain": [
       "<Figure size 288x345.6 with 2 Axes>"
      ]
     },
     "metadata": {
      "needs_background": "light"
     },
     "output_type": "display_data"
    }
   ],
   "source": [
    "# We extract just the scores\n",
    "\n",
    "scores = grid_search.cv_results_['mean_test_score']\n",
    "scores = np.array(scores).reshape(6, 5)\n",
    "\n",
    "plt.matshow(scores)\n",
    "plt.xlabel('gamma')\n",
    "plt.ylabel('C')\n",
    "plt.colorbar()\n",
    "plt.xticks(np.arange(5), param_grid['gamma'])\n",
    "plt.yticks(np.arange(6), param_grid['C']);"
   ]
  },
  {
   "cell_type": "code",
   "execution_count": 29,
   "metadata": {},
   "outputs": [
    {
     "data": {
      "text/html": [
       "<div>\n",
       "<style scoped>\n",
       "    .dataframe tbody tr th:only-of-type {\n",
       "        vertical-align: middle;\n",
       "    }\n",
       "\n",
       "    .dataframe tbody tr th {\n",
       "        vertical-align: top;\n",
       "    }\n",
       "\n",
       "    .dataframe thead th {\n",
       "        text-align: right;\n",
       "    }\n",
       "</style>\n",
       "<table border=\"1\" class=\"dataframe\">\n",
       "  <thead>\n",
       "    <tr style=\"text-align: right;\">\n",
       "      <th></th>\n",
       "      <th>mean_fit_time</th>\n",
       "      <th>std_fit_time</th>\n",
       "      <th>mean_score_time</th>\n",
       "      <th>std_score_time</th>\n",
       "      <th>param_C</th>\n",
       "      <th>param_gamma</th>\n",
       "      <th>params</th>\n",
       "      <th>split0_test_score</th>\n",
       "      <th>split1_test_score</th>\n",
       "      <th>split2_test_score</th>\n",
       "      <th>split3_test_score</th>\n",
       "      <th>split4_test_score</th>\n",
       "      <th>mean_test_score</th>\n",
       "      <th>std_test_score</th>\n",
       "      <th>rank_test_score</th>\n",
       "    </tr>\n",
       "  </thead>\n",
       "  <tbody>\n",
       "    <tr>\n",
       "      <th>0</th>\n",
       "      <td>0.375299</td>\n",
       "      <td>0.097095</td>\n",
       "      <td>0.043852</td>\n",
       "      <td>0.017555</td>\n",
       "      <td>0.001</td>\n",
       "      <td>0.00001</td>\n",
       "      <td>{'C': 0.001, 'gamma': 1e-05}</td>\n",
       "      <td>0.203704</td>\n",
       "      <td>0.103704</td>\n",
       "      <td>0.104089</td>\n",
       "      <td>0.200743</td>\n",
       "      <td>0.104089</td>\n",
       "      <td>0.143266</td>\n",
       "      <td>0.048148</td>\n",
       "      <td>15</td>\n",
       "    </tr>\n",
       "    <tr>\n",
       "      <th>1</th>\n",
       "      <td>0.244657</td>\n",
       "      <td>0.042220</td>\n",
       "      <td>0.035164</td>\n",
       "      <td>0.007041</td>\n",
       "      <td>0.001</td>\n",
       "      <td>0.0001</td>\n",
       "      <td>{'C': 0.001, 'gamma': 0.0001}</td>\n",
       "      <td>0.203704</td>\n",
       "      <td>0.103704</td>\n",
       "      <td>0.104089</td>\n",
       "      <td>0.200743</td>\n",
       "      <td>0.104089</td>\n",
       "      <td>0.143266</td>\n",
       "      <td>0.048148</td>\n",
       "      <td>15</td>\n",
       "    </tr>\n",
       "    <tr>\n",
       "      <th>2</th>\n",
       "      <td>0.215203</td>\n",
       "      <td>0.017070</td>\n",
       "      <td>0.034119</td>\n",
       "      <td>0.003822</td>\n",
       "      <td>0.001</td>\n",
       "      <td>0.001</td>\n",
       "      <td>{'C': 0.001, 'gamma': 0.001}</td>\n",
       "      <td>0.203704</td>\n",
       "      <td>0.103704</td>\n",
       "      <td>0.104089</td>\n",
       "      <td>0.200743</td>\n",
       "      <td>0.104089</td>\n",
       "      <td>0.143266</td>\n",
       "      <td>0.048148</td>\n",
       "      <td>15</td>\n",
       "    </tr>\n",
       "    <tr>\n",
       "      <th>3</th>\n",
       "      <td>0.206303</td>\n",
       "      <td>0.007964</td>\n",
       "      <td>0.031543</td>\n",
       "      <td>0.001375</td>\n",
       "      <td>0.001</td>\n",
       "      <td>0.01</td>\n",
       "      <td>{'C': 0.001, 'gamma': 0.01}</td>\n",
       "      <td>0.162963</td>\n",
       "      <td>0.103704</td>\n",
       "      <td>0.104089</td>\n",
       "      <td>0.163569</td>\n",
       "      <td>0.104089</td>\n",
       "      <td>0.127683</td>\n",
       "      <td>0.029054</td>\n",
       "      <td>22</td>\n",
       "    </tr>\n",
       "    <tr>\n",
       "      <th>4</th>\n",
       "      <td>0.214730</td>\n",
       "      <td>0.037363</td>\n",
       "      <td>0.029108</td>\n",
       "      <td>0.002858</td>\n",
       "      <td>0.001</td>\n",
       "      <td>0.1</td>\n",
       "      <td>{'C': 0.001, 'gamma': 0.1}</td>\n",
       "      <td>0.103704</td>\n",
       "      <td>0.103704</td>\n",
       "      <td>0.104089</td>\n",
       "      <td>0.104089</td>\n",
       "      <td>0.104089</td>\n",
       "      <td>0.103935</td>\n",
       "      <td>0.000189</td>\n",
       "      <td>28</td>\n",
       "    </tr>\n",
       "  </tbody>\n",
       "</table>\n",
       "</div>"
      ],
      "text/plain": [
       "   mean_fit_time  std_fit_time  mean_score_time  std_score_time param_C  \\\n",
       "0       0.375299      0.097095         0.043852        0.017555   0.001   \n",
       "1       0.244657      0.042220         0.035164        0.007041   0.001   \n",
       "2       0.215203      0.017070         0.034119        0.003822   0.001   \n",
       "3       0.206303      0.007964         0.031543        0.001375   0.001   \n",
       "4       0.214730      0.037363         0.029108        0.002858   0.001   \n",
       "\n",
       "  param_gamma                         params  split0_test_score  \\\n",
       "0     0.00001   {'C': 0.001, 'gamma': 1e-05}           0.203704   \n",
       "1      0.0001  {'C': 0.001, 'gamma': 0.0001}           0.203704   \n",
       "2       0.001   {'C': 0.001, 'gamma': 0.001}           0.203704   \n",
       "3        0.01    {'C': 0.001, 'gamma': 0.01}           0.162963   \n",
       "4         0.1     {'C': 0.001, 'gamma': 0.1}           0.103704   \n",
       "\n",
       "   split1_test_score  split2_test_score  split3_test_score  split4_test_score  \\\n",
       "0           0.103704           0.104089           0.200743           0.104089   \n",
       "1           0.103704           0.104089           0.200743           0.104089   \n",
       "2           0.103704           0.104089           0.200743           0.104089   \n",
       "3           0.103704           0.104089           0.163569           0.104089   \n",
       "4           0.103704           0.104089           0.104089           0.104089   \n",
       "\n",
       "   mean_test_score  std_test_score  rank_test_score  \n",
       "0         0.143266        0.048148               15  \n",
       "1         0.143266        0.048148               15  \n",
       "2         0.143266        0.048148               15  \n",
       "3         0.127683        0.029054               22  \n",
       "4         0.103935        0.000189               28  "
      ]
     },
     "execution_count": 29,
     "metadata": {},
     "output_type": "execute_result"
    }
   ],
   "source": [
    "import pandas as pd\n",
    "results = pd.DataFrame(grid_search.cv_results_)\n",
    "results.head()"
   ]
  },
  {
   "cell_type": "markdown",
   "metadata": {},
   "source": [
    "# Homework\n",
    "\n",
    "Explain the following key concepts (no code needed):\n",
    "- why we need to use CV\n",
    "- what is grident descent\n",
    "\n"
   ]
  },
  {
   "cell_type": "code",
   "execution_count": null,
   "metadata": {},
   "outputs": [],
   "source": []
  }
 ],
 "metadata": {
  "anaconda-cloud": {},
  "kernelspec": {
   "display_name": "quant-course",
   "language": "python",
   "name": "quant-course"
  },
  "language_info": {
   "codemirror_mode": {
    "name": "ipython",
    "version": 3
   },
   "file_extension": ".py",
   "mimetype": "text/x-python",
   "name": "python",
   "nbconvert_exporter": "python",
   "pygments_lexer": "ipython3",
   "version": "3.8.11"
  }
 },
 "nbformat": 4,
 "nbformat_minor": 4
}
