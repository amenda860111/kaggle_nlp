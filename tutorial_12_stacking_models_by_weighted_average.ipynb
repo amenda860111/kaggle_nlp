{
 "cells": [
  {
   "cell_type": "markdown",
   "metadata": {},
   "source": [
    "# Stacking Models 3: Weighted Average"
   ]
  },
  {
   "cell_type": "code",
   "execution_count": 1,
   "metadata": {},
   "outputs": [],
   "source": [
    "# compare ensemble to each standalone models for regression\n",
    "from numpy import mean\n",
    "from numpy import std\n",
    "from sklearn.datasets import make_regression\n",
    "from sklearn.model_selection import cross_val_score\n",
    "from sklearn.model_selection import RepeatedKFold\n",
    "from sklearn.linear_model import LinearRegression\n",
    "from sklearn.neighbors import KNeighborsRegressor\n",
    "from sklearn.tree import DecisionTreeRegressor\n",
    "from sklearn.svm import SVR\n",
    "from sklearn.ensemble import StackingRegressor\n",
    "from matplotlib import pyplot\n",
    " \n",
    "# get the dataset\n",
    "# a simulated dataset\n",
    "def get_dataset():\n",
    "\tX, y = make_regression(n_samples=1000, n_features=20, n_informative=15, noise=0.1, random_state=1)\n",
    "\treturn X, y"
   ]
  },
  {
   "cell_type": "code",
   "execution_count": 2,
   "metadata": {},
   "outputs": [
    {
     "name": "stdout",
     "output_type": "stream",
     "text": [
      "(1000, 20)\n",
      "[[ 0.59332206 -0.56637507  1.34808718 -0.57054047 -0.72480487  1.05648449\n",
      "   0.77744852  0.07361796  0.88398267  2.02843157  1.01902732  0.11227799\n",
      "   0.94218853  0.26741783  0.91458143 -0.72759572  1.08842814 -0.61450942\n",
      "  -0.69387293  1.69169009]\n",
      " [ 0.02335703  1.31289541 -0.10889847  1.29099337  0.88608992  1.04003845\n",
      "  -1.56111989  0.26486763  0.3093178   0.07983961 -0.8311734  -0.39712568\n",
      "   0.31897183  0.52795055 -0.56398646  0.93755484  2.91730876  0.57326545\n",
      "   1.15321262  1.0986885 ]]\n",
      "[419.49285417 524.80418832]\n"
     ]
    }
   ],
   "source": [
    "# define dataset\n",
    "X, y = get_dataset()\n",
    "print(X.shape)\n",
    "print(X[:2])\n",
    "print(y[:2])"
   ]
  },
  {
   "cell_type": "code",
   "execution_count": 3,
   "metadata": {},
   "outputs": [],
   "source": [
    "from sklearn.model_selection import train_test_split\n",
    "X_train, X_test, y_train, y_test = train_test_split(X, y, random_state=0)"
   ]
  },
  {
   "cell_type": "code",
   "execution_count": 4,
   "metadata": {},
   "outputs": [],
   "source": [
    "#define level0 models\n",
    "model_0 = KNeighborsRegressor()\n",
    "model_1 = KNeighborsRegressor(n_neighbors=3)\n",
    "model_2 = KNeighborsRegressor(n_neighbors=10)\n",
    "\n",
    "model_3 = DecisionTreeRegressor(max_depth=3)\n",
    "model_4 = DecisionTreeRegressor(max_leaf_nodes=6)\n",
    "\n",
    "model_5 = SVR()"
   ]
  },
  {
   "cell_type": "code",
   "execution_count": 5,
   "metadata": {},
   "outputs": [
    {
     "data": {
      "text/plain": [
       "(750, 1)"
      ]
     },
     "execution_count": 5,
     "metadata": {},
     "output_type": "execute_result"
    }
   ],
   "source": [
    "models = [model_0,model_1,model_2,model_3,model_4,model_5]\n",
    "y_train.shape\n",
    "import numpy as np\n",
    "pred_trains = np.empty((y_train.shape[0],1), int)\n",
    "\n",
    "pred_trains.shape"
   ]
  },
  {
   "cell_type": "code",
   "execution_count": 6,
   "metadata": {},
   "outputs": [
    {
     "name": "stdout",
     "output_type": "stream",
     "text": [
      "KNeighborsRegressor()\n",
      "103.3874876516344\n",
      "(750, 2)\n",
      "KNeighborsRegressor(n_neighbors=3)\n",
      "97.29476723203146\n",
      "(750, 3)\n",
      "KNeighborsRegressor(n_neighbors=10)\n",
      "110.71301618330673\n",
      "(750, 4)\n",
      "DecisionTreeRegressor(max_depth=3)\n",
      "165.81415340556347\n",
      "(750, 5)\n",
      "DecisionTreeRegressor(max_leaf_nodes=6)\n",
      "173.53825514826596\n",
      "(750, 6)\n",
      "SVR()\n",
      "205.45871176333384\n",
      "(750, 7)\n"
     ]
    }
   ],
   "source": [
    "import numpy as np\n",
    "from sklearn.metrics import mean_squared_error as mse\n",
    "\n",
    "pred_trains = np.empty((y_train.shape[0],1), int)\n",
    "\n",
    "for model in models:\n",
    "    print(model)\n",
    "    model.fit(X_train,y_train)\n",
    "    #print(model.score(X_train,y_train))\n",
    "    pred_y= model.predict(X_train).reshape(y_train.shape[0],1)\n",
    "    print(mse(y_train, pred_y, squared=False))\n",
    "    pred_trains = np.append(pred_trains, pred_y, axis=1)\n",
    "    print(pred_trains.shape)\n",
    "pred_trains = pred_trains[:,1:]"
   ]
  },
  {
   "cell_type": "code",
   "execution_count": 7,
   "metadata": {},
   "outputs": [
    {
     "name": "stdout",
     "output_type": "stream",
     "text": [
      "[[ 11.6504239   57.81979212  24.96050309 177.87293708 177.87293708\n",
      "    2.61604134]\n",
      " [ 54.00919326 107.58159401  40.87665889 177.87293708 177.87293708\n",
      "    6.09579783]]\n",
      "[-41.77624922  66.61585282]\n"
     ]
    }
   ],
   "source": [
    "print(pred_trains[1:3])\n",
    "print(y_train[1:3])"
   ]
  },
  {
   "cell_type": "markdown",
   "metadata": {},
   "source": [
    "# Combine two models using weighted average"
   ]
  },
  {
   "cell_type": "code",
   "execution_count": 8,
   "metadata": {},
   "outputs": [
    {
     "data": {
      "text/plain": [
       "(750,)"
      ]
     },
     "execution_count": 8,
     "metadata": {},
     "output_type": "execute_result"
    }
   ],
   "source": [
    "prediction_1 = pred_trains[:,0]\n",
    "prediction_2 = pred_trains[:,3]\n",
    "xx = prediction_1 - prediction_2\n",
    "yy = y_train - prediction_2\n",
    "\n",
    "yy.shape"
   ]
  },
  {
   "cell_type": "code",
   "execution_count": 9,
   "metadata": {},
   "outputs": [
    {
     "data": {
      "text/plain": [
       "0.9869339697963488"
      ]
     },
     "execution_count": 9,
     "metadata": {},
     "output_type": "execute_result"
    }
   ],
   "source": [
    "weighted_model = LinearRegression(fit_intercept=False) # no intercept\n",
    "weighted_model.fit(xx.reshape(-1,1), yy.reshape(-1,1))\n",
    "weighted_model.coef_[0,0]"
   ]
  },
  {
   "cell_type": "code",
   "execution_count": 10,
   "metadata": {},
   "outputs": [
    {
     "data": {
      "text/plain": [
       "103.37323922078103"
      ]
     },
     "execution_count": 10,
     "metadata": {},
     "output_type": "execute_result"
    }
   ],
   "source": [
    "w = weighted_model.coef_[0,0]\n",
    "weighted_prediction_train = w * prediction_1 + (1-w) * prediction_2\n",
    "mse(weighted_prediction_train,y_train, squared=False)"
   ]
  },
  {
   "cell_type": "code",
   "execution_count": 11,
   "metadata": {},
   "outputs": [
    {
     "name": "stdout",
     "output_type": "stream",
     "text": [
      "KNeighborsRegressor()\n",
      "132.39152988754225\n",
      "KNeighborsRegressor(n_neighbors=3)\n",
      "140.29292777086698\n",
      "KNeighborsRegressor(n_neighbors=10)\n",
      "127.2191779890974\n",
      "DecisionTreeRegressor(max_depth=3)\n",
      "168.3515561530396\n",
      "DecisionTreeRegressor(max_leaf_nodes=6)\n",
      "173.35417706547514\n",
      "SVR()\n",
      "203.02441237824215\n",
      "weighted predition\n",
      "131.98211706827556\n"
     ]
    }
   ],
   "source": [
    "pred_tests = np.empty((y_test.shape[0],1), int)\n",
    "\n",
    "for model in models:\n",
    "    print(model)\n",
    "    pred_y= model.predict(X_test).reshape(y_test.shape[0],1)\n",
    "    #print(model.score(X_test,y_test))\n",
    "    print(mse(y_test, pred_y, squared=False))\n",
    "    pred_tests = np.append(pred_tests, pred_y, axis=1)\n",
    "pred_tests = pred_tests[:,1:]\n",
    "    \n",
    "\n",
    "print(\"weighted predition\")\n",
    "\n",
    "weighted_prediction_test = w * pred_tests[:,0] + (1-w) * pred_tests[:,3]\n",
    "\n",
    "print(mse(weighted_prediction_test,y_test, squared=False))"
   ]
  },
  {
   "cell_type": "markdown",
   "metadata": {},
   "source": [
    "# Add a third model"
   ]
  },
  {
   "cell_type": "code",
   "execution_count": 12,
   "metadata": {},
   "outputs": [
    {
     "name": "stdout",
     "output_type": "stream",
     "text": [
      "0.7902455180047285\n",
      "102.79557474917775\n"
     ]
    }
   ],
   "source": [
    "prediction_3 = pred_trains[:,2]\n",
    "xx = weighted_prediction_train - prediction_3\n",
    "yy = y_train - prediction_3\n",
    "\n",
    "weighted_model_3 = LinearRegression(fit_intercept=False) # no intercept\n",
    "weighted_model_3.fit(xx.reshape(-1,1), yy.reshape(-1,1))\n",
    "u = weighted_model_3.coef_[0,0]\n",
    "print(u)\n",
    "\n",
    "weighted_prediction_train_3 = u * weighted_prediction_train + (1-u) * prediction_3\n",
    "print(mse(weighted_prediction_train_3,y_train, squared=False))"
   ]
  },
  {
   "cell_type": "code",
   "execution_count": 13,
   "metadata": {},
   "outputs": [
    {
     "name": "stdout",
     "output_type": "stream",
     "text": [
      "129.40900680205786\n"
     ]
    }
   ],
   "source": [
    "weighted_prediction_test_3 = u * weighted_prediction_test + (1-u) * pred_tests[:,2]\n",
    "print(mse(weighted_prediction_test_3,y_test, squared=False))"
   ]
  },
  {
   "cell_type": "code",
   "execution_count": null,
   "metadata": {},
   "outputs": [],
   "source": []
  }
 ],
 "metadata": {
  "kernelspec": {
   "display_name": "quant-course",
   "language": "python",
   "name": "quant-course"
  },
  "language_info": {
   "codemirror_mode": {
    "name": "ipython",
    "version": 3
   },
   "file_extension": ".py",
   "mimetype": "text/x-python",
   "name": "python",
   "nbconvert_exporter": "python",
   "pygments_lexer": "ipython3",
   "version": "3.8.11"
  }
 },
 "nbformat": 4,
 "nbformat_minor": 5
}
